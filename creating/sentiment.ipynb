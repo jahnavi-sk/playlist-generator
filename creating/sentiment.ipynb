{
 "cells": [
  {
   "cell_type": "code",
   "execution_count": null,
   "metadata": {
    "vscode": {
     "languageId": "plaintext"
    }
   },
   "outputs": [],
   "source": [
    "!pip3 install transformers datasets torch scikit-learn pandas numpy\n",
    "!pip3 install accelerate\n"
   ]
  },
  {
   "cell_type": "code",
   "execution_count": null,
   "metadata": {
    "vscode": {
     "languageId": "plaintext"
    }
   },
   "outputs": [],
   "source": [
    "import pandas as pd\n",
    "import torch\n",
    "from transformers import BertTokenizer, BertForSequenceClassification\n",
    "from sklearn.model_selection import train_test_split\n",
    "from torch.utils.data import Dataset, DataLoader\n",
    "from transformers import Trainer, TrainingArguments\n",
    "\n",
    "# Load dataset\n",
    "df = pd.read_csv(\"goemotions_1.csv\")  # Update path if needed\n",
    "\n",
    "# Emotion Mapping (from your predefined categories)\n",
    "emotion_map = {\n",
    "    \"Very Sad\": ['sadness', 'grief'],\n",
    "    \"Moderately Sad\": ['disappointment'],\n",
    "    \"Little Sad\": ['remorse'],\n",
    "    \"Okayish\": ['neutral','approval'],\n",
    "    \"Giddy\": ['excitement', 'joy','love','desire'],\n",
    "    \"Pleasant\": ['admiration','relief','caring'],\n",
    "    \"Party!!\": ['amusement', 'pride','joy','excitement'],\n",
    "    \"Yikes\": ['annoyance','surprise','disapproval'],\n",
    "    \"Angry\": ['anger', 'disgust'],\n",
    "    \"Spooky\": ['fear']\n",
    "}\n",
    "\n",
    "\n",
    "# Convert one-hot encoding into a single label\n",
    "def map_emotions(row):\n",
    "    for category, emotions in emotion_map.items():\n",
    "        if any(row[emotion] == 1 for emotion in emotions):\n",
    "            return category\n",
    "    return \"Unknown\"\n",
    "\n",
    "df[\"mapped_emotion\"] = df.apply(map_emotions, axis=1)\n",
    "\n",
    "# Remove 'Unknown' labels\n",
    "df = df[df[\"mapped_emotion\"] != \"Unknown\"]\n",
    "\n",
    "# Encode categories as numbers\n",
    "emotion_labels = {emotion: idx for idx, emotion in enumerate(emotion_map.keys())}\n",
    "df[\"label\"] = df[\"mapped_emotion\"].map(emotion_labels)\n",
    "\n",
    "# Split Data\n",
    "train_texts, val_texts, train_labels, val_labels = train_test_split(\n",
    "    df[\"text\"].tolist(), df[\"label\"].tolist(), test_size=0.2, random_state=42\n",
    ")\n",
    "\n",
    "print(\"✅ Data Loaded and Processed!\")\n"
   ]
  },
  {
   "cell_type": "code",
   "execution_count": null,
   "metadata": {
    "vscode": {
     "languageId": "plaintext"
    }
   },
   "outputs": [],
   "source": [
    "tokenizer = BertTokenizer.from_pretrained(\"bert-base-uncased\")\n",
    "\n",
    "class EmotionDataset(Dataset):\n",
    "    def __init__(self, texts, labels, tokenizer, max_length=128):\n",
    "        self.texts = texts\n",
    "        self.labels = labels\n",
    "        self.tokenizer = tokenizer\n",
    "        self.max_length = max_length\n",
    "\n",
    "    def __len__(self):\n",
    "        return len(self.texts)\n",
    "\n",
    "    def __getitem__(self, idx):\n",
    "        encoding = self.tokenizer(\n",
    "            self.texts[idx],\n",
    "            padding=\"max_length\",\n",
    "            truncation=True,\n",
    "            max_length=self.max_length,\n",
    "            return_tensors=\"pt\"\n",
    "        )\n",
    "        return {\n",
    "            \"input_ids\": encoding[\"input_ids\"].squeeze(),\n",
    "            \"attention_mask\": encoding[\"attention_mask\"].squeeze(),\n",
    "            \"labels\": torch.tensor(self.labels[idx], dtype=torch.long)\n",
    "        }\n",
    "\n",
    "# Create datasets\n",
    "train_dataset = EmotionDataset(train_texts, train_labels, tokenizer)\n",
    "val_dataset = EmotionDataset(val_texts, val_labels, tokenizer)\n"
   ]
  },
  {
   "cell_type": "code",
   "execution_count": null,
   "metadata": {
    "vscode": {
     "languageId": "plaintext"
    }
   },
   "outputs": [],
   "source": [
    "model = BertForSequenceClassification.from_pretrained(\n",
    "    \"bert-base-uncased\",\n",
    "    num_labels=len(emotion_labels)  # Number of emotion classes\n",
    ")\n"
   ]
  },
  {
   "cell_type": "code",
   "execution_count": null,
   "metadata": {
    "vscode": {
     "languageId": "plaintext"
    }
   },
   "outputs": [],
   "source": [
    "!pip install 'accelerate>=0.26.0'"
   ]
  },
  {
   "cell_type": "code",
   "execution_count": null,
   "metadata": {
    "vscode": {
     "languageId": "plaintext"
    }
   },
   "outputs": [],
   "source": [
    "training_args = TrainingArguments(\n",
    "    output_dir=\"./bert-emotion-model\",\n",
    "    evaluation_strategy=\"epoch\",\n",
    "    save_strategy=\"epoch\",\n",
    "    per_device_train_batch_size=16,\n",
    "    per_device_eval_batch_size=16,\n",
    "    num_train_epochs=4,\n",
    "    weight_decay=0.01,\n",
    "    logging_dir=\"./logs\",\n",
    "    logging_steps=10,\n",
    "    load_best_model_at_end=True\n",
    ")\n",
    "\n",
    "trainer = Trainer(\n",
    "    model=model,\n",
    "    args=training_args,\n",
    "    train_dataset=train_dataset,\n",
    "    eval_dataset=val_dataset\n",
    ")\n",
    "\n",
    "trainer.train()\n"
   ]
  },
  {
   "cell_type": "code",
   "execution_count": null,
   "metadata": {
    "vscode": {
     "languageId": "plaintext"
    }
   },
   "outputs": [],
   "source": [
    "model.save_pretrained(\"./bert-emotion-classifier\")\n",
    "tokenizer.save_pretrained(\"./bert-emotion-classifier\")\n",
    "\n",
    "# Load for testing\n",
    "model = BertForSequenceClassification.from_pretrained(\"./bert-emotion-classifier\")\n",
    "tokenizer = BertTokenizer.from_pretrained(\"./bert-emotion-classifier\")\n",
    "\n",
    "def predict_emotion(text):\n",
    "    inputs = tokenizer(text, return_tensors=\"pt\", truncation=True, max_length=128)\n",
    "    outputs = model(**inputs)\n",
    "    predicted_class = torch.argmax(outputs.logits).item()\n",
    "    \n",
    "    emotion_mapping = {v: k for k, v in emotion_labels.items()}\n",
    "    return emotion_mapping[predicted_class]\n",
    "\n",
    "\n"
   ]
  }
 ],
 "metadata": {
  "language_info": {
   "name": "python"
  }
 },
 "nbformat": 4,
 "nbformat_minor": 2
}
